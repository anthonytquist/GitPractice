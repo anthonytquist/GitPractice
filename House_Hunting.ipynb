{
  "nbformat": 4,
  "nbformat_minor": 0,
  "metadata": {
    "colab": {
      "provenance": [],
      "authorship_tag": "ABX9TyN1CKGUyjNJ97bvVYMyTT0J",
      "include_colab_link": true
    },
    "kernelspec": {
      "name": "python3",
      "display_name": "Python 3"
    },
    "language_info": {
      "name": "python"
    }
  },
  "cells": [
    {
      "cell_type": "markdown",
      "metadata": {
        "id": "view-in-github",
        "colab_type": "text"
      },
      "source": [
        "<a href=\"https://colab.research.google.com/github/anthonytquist/GitPractice/blob/master/House_Hunting.ipynb\" target=\"_parent\"><img src=\"https://colab.research.google.com/assets/colab-badge.svg\" alt=\"Open In Colab\"/></a>"
      ]
    },
    {
      "cell_type": "code",
      "execution_count": 28,
      "metadata": {
        "id": "QnPIocSzCQtb"
      },
      "outputs": [],
      "source": [
        "total_cost = 500000\n",
        "portion_down_payment = (.25 * total_cost)\n",
        "portion_saved = .15\n",
        "current_savings = 0\n",
        "annual_salary = 80000\n",
        "r = .04\n",
        "number_of_months = 0\n",
        "investments = 0"
      ]
    },
    {
      "cell_type": "code",
      "source": [
        "while current_savings < portion_down_payment:\n",
        "  current_savings = current_savings + ((annual_salary/12) * portion_saved)\n",
        "  investments = current_savings * r / 12\n",
        "  current_savings = current_savings + investments\n",
        "  number_of_months = number_of_months + 1\n",
        "\n",
        "\n",
        "print(number_of_months)"
      ],
      "metadata": {
        "colab": {
          "base_uri": "https://localhost:8080/"
        },
        "id": "DyP3unx3CSfh",
        "outputId": "526aed62-facf-4b10-dfeb-47b7472450eb"
      },
      "execution_count": 29,
      "outputs": [
        {
          "output_type": "stream",
          "name": "stdout",
          "text": [
            "105\n"
          ]
        }
      ]
    },
    {
      "cell_type": "code",
      "source": [],
      "metadata": {
        "id": "49fYQdKkDAYL"
      },
      "execution_count": 23,
      "outputs": []
    }
  ]
}